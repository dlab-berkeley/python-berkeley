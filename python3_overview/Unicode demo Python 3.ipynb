{
 "metadata": {
  "name": "Unicode demo Python 3"
 },
 "nbformat": 3,
 "nbformat_minor": 0,
 "worksheets": [
  {
   "cells": [
    {
     "cell_type": "code",
     "collapsed": false,
     "input": [
      "ustr = \"cafe\"  #\u00e9\n",
      "bstr = ustr.encode('utf-8')\n",
      "bstr"
     ],
     "language": "python",
     "metadata": {},
     "outputs": []
    },
    {
     "cell_type": "markdown",
     "metadata": {},
     "source": [
      "In Python 3, you can't mix unicode and bytes, even if they're pure ASCII."
     ]
    },
    {
     "cell_type": "code",
     "collapsed": false,
     "input": [
      "ustr + bstr"
     ],
     "language": "python",
     "metadata": {},
     "outputs": []
    },
    {
     "cell_type": "code",
     "collapsed": false,
     "input": [
      "''.join([ustr, bstr])"
     ],
     "language": "python",
     "metadata": {},
     "outputs": []
    },
    {
     "cell_type": "code",
     "collapsed": false,
     "input": [
      "bstr.split('f')"
     ],
     "language": "python",
     "metadata": {},
     "outputs": []
    },
    {
     "cell_type": "heading",
     "level": 2,
     "metadata": {},
     "source": [
      "Write unicode to a (bytes mode) file"
     ]
    },
    {
     "cell_type": "code",
     "collapsed": false,
     "input": [
      "with open('foo.txt', 'wb') as f:\n",
      "    f.write(bstr)\n",
      "    f.write(ustr)\n",
      "\n",
      "open('foo.txt', 'rb').read()"
     ],
     "language": "python",
     "metadata": {},
     "outputs": []
    },
    {
     "cell_type": "heading",
     "level": 3,
     "metadata": {},
     "source": [
      "But we can use text mode files"
     ]
    },
    {
     "cell_type": "code",
     "collapsed": false,
     "input": [
      "with open('foo2.txt', 'w', encoding='utf-8') as f:\n",
      "    f.write(ustr)\n",
      "    #f.write(bstr)   # Writing bytes to this won't work\n",
      "\n",
      "open('foo2.txt', 'rb').read()"
     ],
     "language": "python",
     "metadata": {},
     "outputs": []
    },
    {
     "cell_type": "heading",
     "level": 2,
     "metadata": {},
     "source": [
      "Encode and decode: right"
     ]
    },
    {
     "cell_type": "code",
     "collapsed": false,
     "input": [
      "ustr.encode('utf-8')"
     ],
     "language": "python",
     "metadata": {},
     "outputs": []
    },
    {
     "cell_type": "code",
     "collapsed": false,
     "input": [
      "bstr.decode('utf-8')"
     ],
     "language": "python",
     "metadata": {},
     "outputs": []
    },
    {
     "cell_type": "heading",
     "level": 2,
     "metadata": {},
     "source": [
      "Encode and decode: wrong"
     ]
    },
    {
     "cell_type": "markdown",
     "metadata": {},
     "source": [
      "`unicode` objects only have an `encode()` method, and `bytes` objects only have a `decode()` method. So you can't get them the wrong way round."
     ]
    },
    {
     "cell_type": "code",
     "collapsed": false,
     "input": [
      "ustr."
     ],
     "language": "python",
     "metadata": {},
     "outputs": []
    },
    {
     "cell_type": "code",
     "collapsed": false,
     "input": [
      "bstr."
     ],
     "language": "python",
     "metadata": {},
     "outputs": []
    }
   ],
   "metadata": {}
  }
 ]
}