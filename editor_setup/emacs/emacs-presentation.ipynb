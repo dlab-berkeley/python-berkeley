{
 "metadata": {
  "name": ""
 },
 "nbformat": 3,
 "nbformat_minor": 0,
 "worksheets": [
  {
   "cells": [
    {
     "cell_type": "markdown",
     "source": [
      "# p4science emacs presentation\n",
      "\n",
      "Jess Hamrick  \n",
      "jhamrick@berkeley.edu"
     ]
    },
    {
     "cell_type": "markdown",
     "source": [
      "## Why Emacs?\n",
      "\n",
      "* Flexible and highly customizable\n",
      "* Lots of resources\n",
      "* If you want a plugin, it probably already exists\n",
      "* You can use it for pretty much everything\n",
      "* A lot of the keyboard shortcuts work in other programs, like `C-a`\n",
      "  and `C-e`"
     ]
    },
    {
     "cell_type": "markdown",
     "source": [
      "## Why not Emacs?\n",
      "\n",
      "* High learning curve\n",
      "* Plugins can be buggy or not well-maintained\n",
      "* Package management for plugins is a pain (but! it is getting\n",
      "  better!)\n",
      "* If you want to do your own customization, you have to learn elisp"
     ]
    },
    {
     "cell_type": "markdown",
     "source": [
      "## What do I use Emacs for?\n",
      "\n",
      "* Python (`python-mode`)\n",
      "* IPython (shell + notebook!) (`emacs-ipython-mode`)\n",
      "* LaTeX (`auctex`)\n",
      "* Git (`magit`)\n",
      "* Markdown (`markdown-mode`)\n",
      "* Terminal... though not always (`ansi-term`)\n",
      "* Basically any other text editing or coding that I need to do"
     ]
    },
    {
     "cell_type": "markdown",
     "source": [
      "### Emacs IPython Notebook"
     ]
    },
    {
     "cell_type": "code",
     "collapsed": false,
     "input": [
      "1+1"
     ],
     "language": "python",
     "outputs": [
      {
       "output_type": "pyout",
       "prompt_number": 1,
       "text": [
        "2"
       ]
      }
     ],
     "prompt_number": 1
    },
    {
     "cell_type": "markdown",
     "source": [
      "Look, you can have a scratch buffer! -->"
     ]
    },
    {
     "cell_type": "markdown",
     "source": [
      "And, matplotlib images are displayed inline, just like in the web\n",
      "notebook:"
     ]
    },
    {
     "cell_type": "code",
     "collapsed": false,
     "input": [
      "%matplotlib inline\n",
      "import matplotlib.pyplot as plt\n",
      "plt.plot([1,2,3,4])\n",
      "plt.ylabel('some numbers')\n",
      "plt.show()"
     ],
     "language": "python",
     "outputs": [
      {
       "output_type": "display_data",
       "png": "[encoded data removed]",
       "text": [
        "<matplotlib.figure.Figure at 0x108820d90>"
       ]
      }
     ],
     "prompt_number": 5
    },
    {
     "cell_type": "markdown",
     "source": [
      "But, not all parts of the notebook work. EIN hasn't been updated in a\n",
      "few months, and so it's a bit behind the cutting edge of IPython.\n",
      "\n",
      "* LaTeX rendering of equations doesn't work yet: $x=4x-2$\n",
      "* Cell metadata isn't exposed\n",
      "* Some cell magics don't work properly (e.g. `%load`, anything with\n",
      "  `raw_input`)\n",
      "* Indenting is sometimes weird\n",
      "* Text wrapping (e.g. in comments/docstrings) is also sometimes weird\n"
     ]
    },
    {
     "cell_type": "markdown",
     "source": [
      "### Python shell demo"
     ]
    },
    {
     "cell_type": "markdown",
     "source": [
      "### Jedi\n",
      "\n",
      "Jedi.el is a Python completion library for emacs. I have it installed\n",
      "(it's requried by EIN), but it's not currently working in my setup, so\n",
      "I unfortunately can't demo it."
     ]
    },
    {
     "cell_type": "markdown",
     "source": [
      "### Style/syntax checking\n",
      "\n",
      "I have a script which runs pyflakes and pep8, and highlights lines\n",
      "that have syntax or style errors. It doesn't currently work inside\n",
      "EIN, though."
     ]
    },
    {
     "cell_type": "markdown",
     "source": [
      "### LaTeX demo\n",
      "\n",
      "`M-x tex-pdf-mode`\n",
      "\n",
      "(Wow, look, emacs can even open PDFs!)"
     ]
    },
    {
     "cell_type": "markdown",
     "source": [
      "### Magit demo\n",
      "\n",
      "`M-x magit-status`"
     ]
    },
    {
     "cell_type": "markdown",
     "source": [
      "### Terminal demo\n",
      "\n",
      "`M-x ansi-term`"
     ]
    },
    {
     "cell_type": "markdown",
     "source": [
      "## My recommendations\n",
      "\n",
      "I <3 Emacs. But...\n",
      "\n",
      "If you are new to programming, Emacs is probably not your best bet\n",
      "because of the learning curve, and if you're also learning\n",
      "programming, it may be a bit overwhelming.\n",
      "\n",
      "Don't start off trying to use too many plugins all at once. Get used\n",
      "to the shortcuts and stuff first.\n",
      "\n",
      "Rebind your caps lock to another control key.\n",
      "\n",
      "Document your .emacs configuration well, and keep it under version\n",
      "control.\n",
      "\n",
      "You will never be able to use conventional text editors (or any\n",
      "editor) again. I hate when I have to type stuff in the browser because\n",
      "I work about 2-3 times more slowly than when I'm in Emacs."
     ]
    },
    {
     "cell_type": "markdown",
     "source": [
      "## Resources\n",
      "\n",
      "* A [beginner's\n",
      "  tutorial](http://www.jesshamrick.com/2012/09/10/absolute-beginners-guide-to-emacs)\n",
      "  that I wrote.\n",
      "\n",
      "* [My emacs configuration](https://github.com/jhamrick/emacs).\n",
      "\n",
      "* A [rather outdated\n",
      "  guide](http://www.jesshamrick.com/2012/09/18/emacs-as-a-python-ide)\n",
      "  to using Python in Emacs, which I also wrote.\n",
      "\n",
      "* A [somewhat less outdated\n",
      "  guide](http://caisah.info/emacs-for-python/) to using Python in\n",
      "  Emacs\n",
      "\n",
      "* [EmacsWiki](http://www.emacswiki.org/emacs/) is a great site to\n",
      "  search if you're looking for how to do something, though it can\n",
      "  sometimes be a bit out of date. Especially check out the\n",
      "  [Python+Emacs\n",
      "  page](http://www.emacswiki.org/emacs/PythonProgrammingInEmacs).\n",
      "\n",
      "* The [Emacs subreddit](http://www.reddit.com/r/emacs) also has some\n",
      "  useful links.\n",
      "\n",
      "* A blog post on [Jedi completion for\n",
      "  Emacs](http://www.masteringemacs.org/articles/2013/01/10/jedi-completion-library-python/)."
     ]
    }
   ]
  }
 ]
}